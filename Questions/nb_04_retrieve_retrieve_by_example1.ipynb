{
 "cells": [
  {
   "cell_type": "markdown",
   "metadata": {},
   "source": [
    "## Image retrieval by example query image ##\n",
    "Experiment with one query image"
   ]
  },
  {
   "cell_type": "code",
   "execution_count": 1,
   "metadata": {},
   "outputs": [
    {
     "name": "stdout",
     "output_type": "stream",
     "text": [
      "Once deleted, variables cannot be recovered. Proceed (y/[n])? y\n"
     ]
    }
   ],
   "source": [
    "%reset"
   ]
  },
  {
   "cell_type": "code",
   "execution_count": 2,
   "metadata": {},
   "outputs": [
    {
     "data": {
      "text/plain": [
       "<module 'cbir_module' from '/Users/jeremywan/Desktop/MMTech/lab1_cbir_student/cbir_module.py'>"
      ]
     },
     "execution_count": 2,
     "metadata": {},
     "output_type": "execute_result"
    }
   ],
   "source": [
    "from PIL import Image\n",
    "import torch\n",
    "import matplotlib.pyplot as plt\n",
    "import numpy as np\n",
    "import os\n",
    "import sys\n",
    "from time import time\n",
    "import pickle\n",
    "\n",
    "experimentPath = r'/Users/jeremywan/Desktop/MMTech/lab1_cbir_student'\n",
    "os.chdir(experimentPath)\n",
    "# lab related module\n",
    "from ai_pytorch_module import *\n",
    "from cbir_module import *  # LabelDic defined here\n",
    "import cbir_module\n",
    "from cbir_module import *\n",
    "import importlib\n",
    "importlib.reload(cbir_module)"
   ]
  },
  {
   "cell_type": "code",
   "execution_count": 3,
   "metadata": {},
   "outputs": [],
   "source": [
    "#%% Set Path\n",
    "\n",
    "imgpath = r'./images'\n",
    "sys.path.append(os.getcwd())\n",
    "sys.path.append(imgpath)\n"
   ]
  },
  {
   "cell_type": "code",
   "execution_count": 4,
   "metadata": {},
   "outputs": [],
   "source": [
    "#%% load database\n",
    "# Need this since pickle store a list of Database objects\n",
    "# Pickle need to refer to this class\n",
    "class Database :\n",
    "    def __init__(self) :\n",
    "        self.imageName =  None\n",
    "        self.featCNN = None\n",
    "        \n",
    "with open(\"CBIR_database.pickle\",\"rb\") as f:\n",
    "    dataDict = pickle.load(f)\n",
    "database = dataDict['database']\n"
   ]
  },
  {
   "cell_type": "code",
   "execution_count": 5,
   "metadata": {},
   "outputs": [
    {
     "name": "stdout",
     "output_type": "stream",
     "text": [
      "(768,)\n",
      "(1, 4096)\n"
     ]
    }
   ],
   "source": [
    "print(database[1].featColorHist.shape)\n",
    "print(database[1].featCNN.shape)"
   ]
  },
  {
   "cell_type": "markdown",
   "metadata": {},
   "source": [
    "### Question 6\n",
    "Implement the following functions. Test your function with 1 image from each label category\n",
    "1. retrievedID = doRetrieval(featQuery , k, database, imgpath, showImage=True)\n",
    "2. Precision_K = getPrecisionRank_K(k, queryLabel, retrievedID, database)"
   ]
  },
  {
   "cell_type": "code",
   "execution_count": 6,
   "metadata": {},
   "outputs": [],
   "source": [
    "# student code for function definition\n",
    "# def showImageInfoFromDB(id, imgpath, database):\n",
    "# def doRetrieval(featQuery , k, database, imgpath, showImage=True):\n",
    "#  hint use np.argsort()\n",
    "def showImageInfoFromDB(id, imgpath, database):\n",
    "    # your code\n",
    "    \n",
    "    label = database[id].classLabel\n",
    "    feat1 = database[id].featCNN\n",
    "    feat2 = database[id].featColorHist\n",
    "    \n",
    "    print(\"Image name = \" , database[id].imageName)\n",
    "    print(\"Label ID = \" , label)\n",
    "    print(\"Label Name = \" , LabelDic[label])  \n",
    "    print(\"Feature dimension CNN = \" , feat1.shape)\n",
    "    print(\"Feature dimension Colour Histogram = \" , feat2.shape)\n",
    "    \n",
    "    imFile = database[id].imageName\n",
    "    imFile = os.path.join(imgpath, imFile)\n",
    "    im = Image.open(imFile)\n",
    "    plt.figure(figsize=(8,6))\n",
    "    \n",
    "    plt.imshow(im) , plt.axis('off')\n",
    "    titleStr = \" Image {}.jpg label = {} Label name = {}\".format(str(id), label, LabelDic[label])\n",
    "    plt.title(titleStr)\n",
    "    "
   ]
  },
  {
   "cell_type": "code",
   "execution_count": 7,
   "metadata": {},
   "outputs": [],
   "source": [
    "# hint use argsort()\n",
    "def doRetrieval(featQuery , k, database, imgpath, showImage=True):\n",
    "        \n",
    "    numImages = len(database)\n",
    "    dist_cnn = []\n",
    "    idx_k = []\n",
    "    \n",
    "    for f in range (0,numImages) :\n",
    "        dist = np.linalg.norm(featQuery - database[f].featCNN)\n",
    "        dist_cnn.append(dist)\n",
    "        \n",
    "    idx_k = np.argsort(dist_cnn)\n",
    "        \n",
    "    return idx_k[1:k+1]\n",
    "             "
   ]
  },
  {
   "cell_type": "code",
   "execution_count": 8,
   "metadata": {
    "scrolled": false
   },
   "outputs": [
    {
     "name": "stdout",
     "output_type": "stream",
     "text": [
      "Display Query Image id =  101\n",
      "Image name =  101.jpg\n",
      "Label ID =  2\n",
      "Label Name =  Beach\n",
      "Feature dimension CNN =  (1, 4096)\n",
      "Feature dimension Colour Histogram =  (768,)\n"
     ]
    }
   ],
   "source": [
    "#%% Test your code with the script in this cell for CNN feature \n",
    "\n",
    "# Do retrieval by nearest neighbour search\n",
    "# Use query by example\n",
    "\n",
    "k=10 # select the top K image to be retrieved\n",
    "queryID=101  # Select query image ID\n",
    "featQuery = database[queryID].featCNN\n",
    "print(\"Display Query Image id = \", queryID)\n",
    "showImageInfoFromDB(queryID, imgpath, database)\n",
    "\n",
    "featQueryCNN = database[queryID].featCNN\n",
    "retrievedID = doRetrieval(featQueryCNN , k, database, imgpath, showImage=True)\n"
   ]
  },
  {
   "cell_type": "code",
   "execution_count": 9,
   "metadata": {},
   "outputs": [],
   "source": [
    "# student code for function definition\n",
    "# def getPrecisionRank_K(k, queryLabel, retrievedID, database):\n",
    "def getPrecisionRank_K(k, queryLabel, retrievedID, database):\n",
    "    \n",
    "    rel_img = 0\n",
    "    \n",
    "    for f in retrievedID:\n",
    "        label = database[f].classLabel\n",
    "        print(label, end=' ')\n",
    "        if queryLabel == label:\n",
    "                rel_img += 1\n",
    "            \n",
    "    precision_k = rel_img/k\n",
    "   \n",
    "    return precision_k\n",
    "    #endfunc()"
   ]
  },
  {
   "cell_type": "code",
   "execution_count": 10,
   "metadata": {},
   "outputs": [
    {
     "name": "stdout",
     "output_type": "stream",
     "text": [
      "\n",
      " Experiment on CBIR with CNN feature as image feature\n",
      "\n",
      " Class labl of retrieve img\n",
      "2 2 2 2 2 2 2 2 2 2  Query image label : 2\n",
      "\n",
      " Precision when retrieving 10 images for query image 101 = 1.000\n"
     ]
    }
   ],
   "source": [
    "# Report the precision result \n",
    "print(\"\\n Experiment on CBIR with CNN feature as image feature\")\n",
    "print(\"\\n Class labl of retrieve img\")\n",
    "queryLabel = database[queryID].classLabel\n",
    "Precision_K = getPrecisionRank_K(k, queryLabel, retrievedID, database)\n",
    "print(\" Query image label :\" , queryLabel)\n",
    "print(\"\\n Precision when retrieving {} images for query image {} = {:02.3f}\".format(k, queryID, Precision_K)) "
   ]
  },
  {
   "cell_type": "code",
   "execution_count": 11,
   "metadata": {},
   "outputs": [],
   "source": [
    "#%% Repeat the experiment above for colour histogram feature\n",
    "\n",
    "def doRetrieval2(featQuery , k, database, imgpath, showImage=True):\n",
    "    \n",
    "    numImages = len(database)\n",
    "    dist_hist = []\n",
    "    idx_k = []\n",
    "    \n",
    "    for f in range (0,numImages) :\n",
    "        dist = np.linalg.norm(featQuery - database[f].featColorHist)\n",
    "        dist_hist.append(dist)\n",
    "    \n",
    "    idx_k = np.argsort(dist_hist)\n",
    "        \n",
    "    return idx_k[1:k+1]\n"
   ]
  },
  {
   "cell_type": "code",
   "execution_count": 12,
   "metadata": {},
   "outputs": [
    {
     "data": {
      "text/plain": [
       "(768,)"
      ]
     },
     "execution_count": 12,
     "metadata": {},
     "output_type": "execute_result"
    }
   ],
   "source": [
    "database[1].featColorHist.shape"
   ]
  },
  {
   "cell_type": "code",
   "execution_count": 13,
   "metadata": {},
   "outputs": [
    {
     "name": "stdout",
     "output_type": "stream",
     "text": [
      "\n",
      " Experiment on CBIR with color histogram as image feature\n",
      "\n",
      " Class labl of retrieve img\n",
      "9 9 9 10 9 6 2 6 9 6 Query image label : 2\n",
      "\n",
      "Precision when retrieving 10 images for query image 101 = 0.100\n"
     ]
    }
   ],
   "source": [
    "print(\"\\n Experiment on CBIR with color histogram as image feature\")\n",
    "print(\"\\n Class labl of retrieve img\")\n",
    "k=10 # select the top K image to be retrieved\n",
    "queryID=101  # Select query image ID\n",
    "featQuery = database[queryID].featColorHist\n",
    "retrievedID = doRetrieval2(featQuery, k, database, imgpath, showImage=True)\n",
    "# Report the precision result \n",
    "queryLabel = database[queryID].classLabel\n",
    "Precision_K = getPrecisionRank_K(k, queryLabel, retrievedID, database)\n",
    "print(\"Query image label :\" , queryLabel)\n",
    "print(\"\\nPrecision when retrieving {} images for query image {} = {:02.3f}\".format(k, queryID, Precision_K)) "
   ]
  }
 ],
 "metadata": {
  "kernelspec": {
   "display_name": "Python 3",
   "language": "python",
   "name": "python3"
  },
  "language_info": {
   "codemirror_mode": {
    "name": "ipython",
    "version": 3
   },
   "file_extension": ".py",
   "mimetype": "text/x-python",
   "name": "python",
   "nbconvert_exporter": "python",
   "pygments_lexer": "ipython3",
   "version": "3.8.8"
  },
  "toc": {
   "base_numbering": 1,
   "nav_menu": {},
   "number_sections": false,
   "sideBar": true,
   "skip_h1_title": false,
   "title_cell": "Table of Contents",
   "title_sidebar": "Contents",
   "toc_cell": false,
   "toc_position": {},
   "toc_section_display": true,
   "toc_window_display": false
  },
  "varInspector": {
   "cols": {
    "lenName": 16,
    "lenType": 16,
    "lenVar": 40
   },
   "kernels_config": {
    "python": {
     "delete_cmd_postfix": "",
     "delete_cmd_prefix": "del ",
     "library": "var_list.py",
     "varRefreshCmd": "print(var_dic_list())"
    },
    "r": {
     "delete_cmd_postfix": ") ",
     "delete_cmd_prefix": "rm(",
     "library": "var_list.r",
     "varRefreshCmd": "cat(var_dic_list()) "
    }
   },
   "position": {
    "height": "144.444px",
    "left": "1535.67px",
    "right": "20px",
    "top": "120px",
    "width": "350px"
   },
   "types_to_exclude": [
    "module",
    "function",
    "builtin_function_or_method",
    "instance",
    "_Feature"
   ],
   "window_display": false
  }
 },
 "nbformat": 4,
 "nbformat_minor": 4
}
